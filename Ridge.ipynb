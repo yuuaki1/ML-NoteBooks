{
  "nbformat": 4,
  "nbformat_minor": 0,
  "metadata": {
    "colab": {
      "provenance": [],
      "authorship_tag": "ABX9TyPjOoEAcxFurjNVSr64+JZB",
      "include_colab_link": true
    },
    "kernelspec": {
      "name": "python3",
      "display_name": "Python 3"
    },
    "language_info": {
      "name": "python"
    }
  },
  "cells": [
    {
      "cell_type": "markdown",
      "metadata": {
        "id": "view-in-github",
        "colab_type": "text"
      },
      "source": [
        "<a href=\"https://colab.research.google.com/github/yuuaki1/ML-NoteBooks/blob/main/Ridge.ipynb\" target=\"_parent\"><img src=\"https://colab.research.google.com/assets/colab-badge.svg\" alt=\"Open In Colab\"/></a>"
      ]
    },
    {
      "cell_type": "code",
      "execution_count": 2,
      "metadata": {
        "id": "3HhDLZ5IZCTb"
      },
      "outputs": [],
      "source": [
        "from sklearn.datasets import make_regression\n",
        "import matplotlib.pyplot as plt\n",
        "import numpy as np"
      ]
    },
    {
      "cell_type": "code",
      "source": [
        "X, y = make_regression(n_samples = 100, n_features= 1, n_informative=1, n_targets=1, noise = 20, random_state=13)"
      ],
      "metadata": {
        "id": "umZnTNT7ZanW"
      },
      "execution_count": 4,
      "outputs": []
    },
    {
      "cell_type": "markdown",
      "source": [
        "plt.scatter(X, y)"
      ],
      "metadata": {
        "id": "F0KLcB3xZqoK"
      }
    },
    {
      "cell_type": "code",
      "source": [
        "from sklearn.linear_model import LinearRegression"
      ],
      "metadata": {
        "id": "NxOupjzFZyAC"
      },
      "execution_count": 6,
      "outputs": []
    },
    {
      "cell_type": "code",
      "source": [
        "lr = LinearRegression()\n",
        "lr.fit(X, y)\n",
        "print(lr.coef_)\n",
        "print(lr.intercept_)"
      ],
      "metadata": {
        "colab": {
          "base_uri": "https://localhost:8080/"
        },
        "id": "wd9gTtOLZ3om",
        "outputId": "0a0f4e7b-7caa-43b0-a37d-29e7d1a2ca05"
      },
      "execution_count": 7,
      "outputs": [
        {
          "output_type": "stream",
          "name": "stdout",
          "text": [
            "[27.82809103]\n",
            "-2.29474455867698\n"
          ]
        }
      ]
    },
    {
      "cell_type": "code",
      "source": [
        "from sklearn.linear_model import Ridge"
      ],
      "metadata": {
        "id": "Ql_dIjfwaGGw"
      },
      "execution_count": 8,
      "outputs": []
    },
    {
      "cell_type": "code",
      "source": [
        "rr = Ridge(alpha = 10) # if alpha big, underfitting, if too low, overfitting\n",
        "rr.fit(X, y)\n",
        "print(rr.coef_)\n",
        "print(rr.intercept_)"
      ],
      "metadata": {
        "colab": {
          "base_uri": "https://localhost:8080/"
        },
        "id": "Vu4Uc40NaJsp",
        "outputId": "d2d7e53c-4f49-4e08-fdba-5af6efb5911c"
      },
      "execution_count": 16,
      "outputs": [
        {
          "output_type": "stream",
          "name": "stdout",
          "text": [
            "[24.9546267]\n",
            "-2.1269130035235735\n"
          ]
        }
      ]
    },
    {
      "cell_type": "code",
      "source": [
        "rr1 = Ridge(alpha = 100) # if alpha big, underfitting, if too low, overfitting\n",
        "rr1.fit(X, y)\n",
        "print(rr1.coef_)\n",
        "print(rr1.intercept_)"
      ],
      "metadata": {
        "colab": {
          "base_uri": "https://localhost:8080/"
        },
        "id": "Raddn7_KbZFr",
        "outputId": "96ff1237-aeaf-4eec-c5db-ef5681f0b8f0"
      },
      "execution_count": 18,
      "outputs": [
        {
          "output_type": "stream",
          "name": "stdout",
          "text": [
            "[12.93442104]\n",
            "-1.4248441496033308\n"
          ]
        }
      ]
    },
    {
      "cell_type": "code",
      "source": [
        "plt.plot(X, y, 'b.')\n",
        "plt.plot(X, lr.predict(X), color = 'red', label = 'alpha = 0')\n",
        "plt.plot(X, rr.predict(X), color = 'green', label = 'alpha = 10')\n",
        "plt.plot(X, rr1.predict(X), color = 'orange', label = 'alpha = 100')\n",
        "plt.legend()"
      ],
      "metadata": {
        "colab": {
          "base_uri": "https://localhost:8080/",
          "height": 448
        },
        "id": "WWtF-oPpaybg",
        "outputId": "4853eebd-5a31-4eaf-9b35-da5376348888"
      },
      "execution_count": 20,
      "outputs": [
        {
          "output_type": "execute_result",
          "data": {
            "text/plain": [
              "<matplotlib.legend.Legend at 0x7b35de000390>"
            ]
          },
          "metadata": {},
          "execution_count": 20
        },
        {
          "output_type": "display_data",
          "data": {
            "text/plain": [
              "<Figure size 640x480 with 1 Axes>"
            ],
            "image/png": "[encoded data removed]"
          },
          "metadata": {}
        }
      ]
    },
    {
      "cell_type": "code",
      "source": [
        "from sklearn.model_selection import train_test_split\n",
        "\n",
        "X_train, X_test, y_train, y_test = train_test_split(X, y, test_size = 0.2, random_state = 13)"
      ],
      "metadata": {
        "id": "WnTA02IacEXH"
      },
      "execution_count": 22,
      "outputs": []
    },
    {
      "cell_type": "code",
      "source": [
        "class MyRidge:\n",
        "\n",
        "  def __init__(self, alpha = 0.1):\n",
        "    self.alpha = alpha\n",
        "    self.m = None\n",
        "    self.b = None\n",
        "\n",
        "  def fit(self, X, y):\n",
        "    num = 0\n",
        "    den = 0\n",
        "    for i in range(X_train.shape[0]):\n",
        "      num += (X_train[i] - X_train.mean()) * (y_train[i] - y_train.mean())\n",
        "      den = den + (X_train[i] - X_train.mean())**2\n",
        "\n",
        "    self.m = num/(den + self.alpha)\n",
        "    self.b = y_train.mean() - (self.m * X_train.mean())\n",
        "    print(self.m, self.b)\n",
        "\n",
        "  def predict(self, X_test):\n",
        "    return self.m * X_test + self.b"
      ],
      "metadata": {
        "id": "GXkUZhfKblnu"
      },
      "execution_count": 31,
      "outputs": []
    },
    {
      "cell_type": "code",
      "source": [
        "reg = MyRidge()\n",
        "reg.fit(X_train, y_train)"
      ],
      "metadata": {
        "colab": {
          "base_uri": "https://localhost:8080/"
        },
        "id": "KWL3YjrTcrRI",
        "outputId": "31a1a090-f076-4bf0-a2b1-cf0fcd578327"
      },
      "execution_count": 32,
      "outputs": [
        {
          "output_type": "stream",
          "name": "stdout",
          "text": [
            "[28.63236379] [-2.09112003]\n"
          ]
        }
      ]
    }
  ]
}